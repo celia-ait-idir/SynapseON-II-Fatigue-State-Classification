{
  "nbformat": 4,
  "nbformat_minor": 0,
  "metadata": {
    "colab": {
      "provenance": []
    },
    "kernelspec": {
      "name": "python3",
      "display_name": "Python 3"
    },
    "language_info": {
      "name": "python"
    }
  },
  "cells": [
    {
      "cell_type": "markdown",
      "source": [
        "## **SynapseON II : Fatigue State Classification**\n",
        "\n"
      ],
      "metadata": {
        "id": "c0C1oDnuorOk"
      }
    },
    {
      "cell_type": "code",
      "source": [
        "import pandas as pd\n",
        "import json\n",
        "from google.colab import files\n",
        "import seaborn as sns\n",
        "import matplotlib.pyplot as plt\n",
        "from scipy.signal import butter, filtfilt"
      ],
      "metadata": {
        "id": "_qqlHFwEs1Lc"
      },
      "execution_count": null,
      "outputs": []
    },
    {
      "cell_type": "code",
      "source": [
        "!head -n 30 training_dataset.json"
      ],
      "metadata": {
        "colab": {
          "base_uri": "https://localhost:8080/"
        },
        "id": "m3UUVWgQW2eL",
        "outputId": "2708d0d1-8eb5-4d79-a49b-958d0017247d"
      },
      "execution_count": null,
      "outputs": [
        {
          "output_type": "stream",
          "name": "stdout",
          "text": [
            "head: cannot open 'training_dataset.json' for reading: No such file or directory\n"
          ]
        }
      ]
    },
    {
      "cell_type": "code",
      "source": [
        "!head -n 20 test_dataset.json\n",
        "!tail -n 20 test_dataset.json"
      ],
      "metadata": {
        "colab": {
          "base_uri": "https://localhost:8080/"
        },
        "id": "BOQWBf9pkSlv",
        "outputId": "9ca9110b-286c-4caf-c109-f604698f83f7"
      },
      "execution_count": null,
      "outputs": [
        {
          "output_type": "stream",
          "name": "stdout",
          "text": [
            "head: cannot open 'test_dataset.json' for reading: No such file or directory\n",
            "tail: cannot open 'test_dataset.json' for reading: No such file or directory\n"
          ]
        }
      ]
    },
    {
      "cell_type": "code",
      "source": [
        "with open('training_dataset.json') as f:\n",
        "  data = json.load(f)\n",
        "mm = []\n",
        "for state, cause in data.items():\n",
        "  m = pd.json_normalize(cause)\n",
        "  m['state'] = state.split('_')[1]\n",
        "  mm.append(m)\n",
        "\n",
        "datass = pd.concat(mm, ignore_index=False)\n",
        "\n",
        "datass.to_csv('training_dataset_fatigue.csv', index=False)\n",
        "files.download('training_dataset_fatigue.csv')\n"
      ],
      "metadata": {
        "id": "fLEQz0okfLpe"
      },
      "execution_count": null,
      "outputs": []
    },
    {
      "cell_type": "code",
      "source": [
        "fat = pd.read_csv('training_dataset_fatigue.csv')\n",
        "\n",
        "print(len(fat))\n",
        "print(fat.nunique())\n",
        "fat = fat.drop('index', axis=1)\n",
        "fat.info()\n",
        "fat.sample(5)"
      ],
      "metadata": {
        "id": "86k7zHtVkDus"
      },
      "execution_count": null,
      "outputs": []
    },
    {
      "cell_type": "code",
      "source": [
        "def filter_emg(emg_signal, lowcut=20, highcut=450, fs=1000, order=4):\n",
        "    nyq = 0.5 * fs\n",
        "    low = lowcut / nyq\n",
        "    high = highcut / nyq\n",
        "    b, a = butter(order, [low, high], btype='band')\n",
        "    return filtfilt(b, a, emg_signal)\n",
        "\n",
        "fat['EMG_clean'] = filter_emg(fat['EMG'].values)\n",
        "\n",
        "plt.figure(figsize=(10, 4))\n",
        "plt.plot(fat['EMG'], label='unfiltered', alpha=0.3)\n",
        "plt.plot(fat['EMG_clean'], label='filtered')\n",
        "plt.legend()\n",
        "plt.show()\n",
        "\n",
        "\n",
        "invalid = ~fat['AvgBPM'].between(40, 200)\n",
        "fat.loc[invalid, 'AvgBPM'] = fat['AvgBPM'].rolling(window=5 , center=True).median().loc[invalid]\n",
        "\n",
        "fat['og_BPM'] = fat['BPM']\n",
        "\n",
        "illogic_rest = ((fat['state']== 'REST') & (fat['EMG'] > 50) & (fat['BPM']<60))\n",
        "fat.loc[illogic_rest , 'BPM'] = (60 + (fat.loc[illogic_rest , 'BPM'])*0.1)\n",
        "\n",
        "illogic_fat = ((fat['state']== 'FATIG') & (fat['EMG'] > 200) & (fat['BPM'] < 100))\n",
        "fat.loc[illogic_fat, 'BPM'] = (100 + (fat.loc[illogic_fat, 'BPM'] * 0.15))\n",
        "\n",
        "plt.figure(figsize=(12, 6))\n",
        "plt.scatter(fat['EMG'], fat['og_BPM'], color='black', alpha=0.5, s=20, label='Original')\n",
        "plt.scatter(fat['EMG'], fat['BPM'], color='red', alpha=0.5, s=20, label='Corrected')\n",
        "plt.xlabel('EMG (µV)')\n",
        "plt.ylabel('BPM')\n",
        "plt.title('BPM Correction: Before vs After')\n",
        "plt.legend()\n",
        "plt.grid(True, alpha=0.3)\n",
        "plt.show()\n",
        "\n",
        "print(fat.sample(5))\n",
        "print(len(fat))\n"
      ],
      "metadata": {
        "id": "xHqEY5u5Cmq2"
      },
      "execution_count": null,
      "outputs": []
    },
    {
      "cell_type": "code",
      "source": [
        "with open('test_dataset.json') as f:\n",
        "  data = json.load(f)\n",
        "mm = []\n",
        "for state, cause in data.items():\n",
        "  m = pd.json_normalize(cause)\n",
        "  m['state'] = state.split('_')[1]\n",
        "  mm.append(m)\n",
        "\n",
        "datass = pd.concat(mm, ignore_index=False)\n",
        "\n",
        "datass.to_csv('testing_dataset_fatigue.csv', index=False)\n",
        "files.download('testing_dataset_fatigue.csv')\n",
        "\n"
      ],
      "metadata": {
        "id": "XFneOJiGaht6"
      },
      "execution_count": null,
      "outputs": []
    },
    {
      "cell_type": "code",
      "source": [
        "test_m = pd.read_csv('testing_dataset_fatigue.csv')\n",
        "print(test_m['EMG'].isna().sum())\n",
        "print(test_m.nunique())\n",
        "print(test_m['state'].unique())\n",
        "test_m = test_m.drop('index', axis=1)\n",
        "def filter_emg(emg_signal, lowcut=20, highcut=450, fs=1000, order=4):\n",
        "    nyq = 0.5 * fs\n",
        "    low = lowcut / nyq\n",
        "    high = highcut / nyq\n",
        "    b, a = butter(order, [low, high], btype='band')\n",
        "    return filtfilt(b, a, emg_signal)\n",
        "\n",
        "test_m['EMG_clean'] = filter_emg(test_m['EMG'].values)\n",
        "\n",
        "\n",
        "invalid = ~test_m['BPM'].between(40, 200)\n",
        "test_m.loc[invalid, 'BPM'] = test_m['BPM'].rolling(window=5, center=True).median().loc[invalid]\n",
        "\n",
        "\n",
        "illogic_rest = ((test_m['state'] == 'REST') & (test_m['EMG'] > 50) & (test_m['BPM'] < 60))\n",
        "test_m.loc[illogic_rest, 'BPM'] = 60 + (test_m.loc[illogic_rest, 'BPM'] * 0.1)\n",
        "\n",
        "illogic_fat = ((test_m['state'] == 'FATIG') & (test_m['EMG'] > 200) & (test_m['BPM'] < 100))\n",
        "test_m.loc[illogic_fat, 'BPM'] = 100 + (test_m.loc[illogic_fat, 'BPM'] * 0.15)\n",
        "\n",
        "print(test_m.sample(5))"
      ],
      "metadata": {
        "id": "F6Czv7jgQc20"
      },
      "execution_count": null,
      "outputs": []
    },
    {
      "cell_type": "code",
      "source": [
        "import pandas as pd\n",
        "import numpy as np\n",
        "import json\n",
        "from scipy.signal import butter, filtfilt\n",
        "import matplotlib.pyplot as plt\n",
        "from sklearn.ensemble import RandomForestClassifier\n",
        "from sklearn.model_selection import train_test_split\n",
        "from sklearn.metrics import (accuracy_score, precision_score,\n",
        "                            recall_score, f1_score,\n",
        "                            confusion_matrix, classification_report)\n",
        "\n",
        "\n",
        "X_test = test_m[['EMG_clean', 'BPM', 'IR', 'AvgBPM']]\n",
        "\n",
        "\n",
        "Xtrain = fat[['EMG_clean', 'BPM', 'IR', 'AvgBPM']]\n",
        "ytrain = fat['state']\n",
        "\n",
        "\n",
        "model = RandomForestClassifier(random_state=42)\n",
        "model.fit(Xtrain, ytrain)\n",
        "\n",
        "\n",
        "predicted_states = model.predict(X_test)\n",
        "test_m['predicted_state'] = predicted_states\n",
        "print(test_m[['EMG_clean', 'BPM', 'IR', 'AvgBPM', 'predicted_state']].sample(5))\n",
        "\n",
        "\n"
      ],
      "metadata": {
        "id": "z7cBbPtjtIxP"
      },
      "execution_count": null,
      "outputs": []
    },
    {
      "cell_type": "code",
      "source": [
        "print(\"\\nMetrics:\")\n",
        "print(f\"Accuracy: {accuracy_score(test_m['state'], predicted_states):.2f}\")\n",
        "print(f\"Precision: {precision_score(test_m['state'], predicted_states, average='weighted'):.2f}\")\n",
        "print(f\"Recall: {recall_score(test_m['state'], predicted_states, average='weighted'):.2f}\")\n",
        "print(f\"F1 Score: {f1_score(test_m['state'], predicted_states, average='weighted'):.2f}\")\n",
        "\n",
        "print(\"\\nConfusion Matrix:\")\n",
        "print(confusion_matrix(test_m['state'], predicted_states, labels=['REST', 'FATIG']))\n",
        "\n",
        "print(\"\\nClassification Report:\")\n",
        "print(classification_report(test_m['state'], predicted_states))"
      ],
      "metadata": {
        "id": "eyJbjTWnWjK6"
      },
      "execution_count": null,
      "outputs": []
    }
  ]
}